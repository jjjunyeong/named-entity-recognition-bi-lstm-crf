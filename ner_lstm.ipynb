{
  "cells": [
    {
      "cell_type": "code",
      "execution_count": 1,
      "metadata": {
        "id": "fhScQ5GRNcB4"
      },
      "outputs": [],
      "source": [
        "# choose embedding from ['random', 'senna']\n",
        "EMBEDDING_TYPE = 'senna'\n",
        "\n",
        "# choose model from ['lstm', 'lstm_crf', 'crf', 'bi_lstm', 'bi_lstm_crf']\n",
        "MODEL = 'bi_lstm_crf'\n",
        "\n",
        "# hyper parameters\n",
        "BATCH_SIZE = 512  # Number of examples used in each iteration\n",
        "EPOCHS = 3  # Number of passes through entire dataset\n",
        "MAX_LEN = 75  # Max length of review (in words)\n",
        "EMBEDDING = 50  # Dimension of word embedding vector\n",
        "HIDDEN = 300\n",
        "LR = 0.1"
      ]
    },
    {
      "cell_type": "code",
      "execution_count": 2,
      "metadata": {
        "colab": {
          "base_uri": "https://localhost:8080/"
        },
        "id": "cAvvrEtxIv5f",
        "outputId": "bd757503-a761-4a53-d566-f0e3c18a2682"
      },
      "outputs": [
        {
          "name": "stdout",
          "output_type": "stream",
          "text": [
            "Looking in indexes: https://pypi.org/simple, https://us-python.pkg.dev/colab-wheels/public/simple/\n",
            "Requirement already satisfied: datasets in /usr/local/lib/python3.10/dist-packages (2.12.0)\n",
            "Requirement already satisfied: Keras-Preprocessing in /usr/local/lib/python3.10/dist-packages (1.1.2)\n",
            "Requirement already satisfied: tensorflow-addons in /usr/local/lib/python3.10/dist-packages (0.20.0)\n",
            "Requirement already satisfied: seqeval in /usr/local/lib/python3.10/dist-packages (1.2.2)\n",
            "Requirement already satisfied: numpy>=1.17 in /usr/local/lib/python3.10/dist-packages (from datasets) (1.22.4)\n",
            "Requirement already satisfied: pyarrow>=8.0.0 in /usr/local/lib/python3.10/dist-packages (from datasets) (9.0.0)\n",
            "Requirement already satisfied: dill<0.3.7,>=0.3.0 in /usr/local/lib/python3.10/dist-packages (from datasets) (0.3.6)\n",
            "Requirement already satisfied: pandas in /usr/local/lib/python3.10/dist-packages (from datasets) (1.5.3)\n",
            "Requirement already satisfied: requests>=2.19.0 in /usr/local/lib/python3.10/dist-packages (from datasets) (2.27.1)\n",
            "Requirement already satisfied: tqdm>=4.62.1 in /usr/local/lib/python3.10/dist-packages (from datasets) (4.65.0)\n",
            "Requirement already satisfied: xxhash in /usr/local/lib/python3.10/dist-packages (from datasets) (3.2.0)\n",
            "Requirement already satisfied: multiprocess in /usr/local/lib/python3.10/dist-packages (from datasets) (0.70.14)\n",
            "Requirement already satisfied: fsspec[http]>=2021.11.1 in /usr/local/lib/python3.10/dist-packages (from datasets) (2023.4.0)\n",
            "Requirement already satisfied: aiohttp in /usr/local/lib/python3.10/dist-packages (from datasets) (3.8.4)\n",
            "Requirement already satisfied: huggingface-hub<1.0.0,>=0.11.0 in /usr/local/lib/python3.10/dist-packages (from datasets) (0.15.1)\n",
            "Requirement already satisfied: packaging in /usr/local/lib/python3.10/dist-packages (from datasets) (23.1)\n",
            "Requirement already satisfied: responses<0.19 in /usr/local/lib/python3.10/dist-packages (from datasets) (0.18.0)\n",
            "Requirement already satisfied: pyyaml>=5.1 in /usr/local/lib/python3.10/dist-packages (from datasets) (6.0)\n",
            "Requirement already satisfied: six>=1.9.0 in /usr/local/lib/python3.10/dist-packages (from Keras-Preprocessing) (1.16.0)\n",
            "Requirement already satisfied: typeguard<3.0.0,>=2.7 in /usr/local/lib/python3.10/dist-packages (from tensorflow-addons) (2.13.3)\n",
            "Requirement already satisfied: scikit-learn>=0.21.3 in /usr/local/lib/python3.10/dist-packages (from seqeval) (1.2.2)\n",
            "Requirement already satisfied: attrs>=17.3.0 in /usr/local/lib/python3.10/dist-packages (from aiohttp->datasets) (23.1.0)\n",
            "Requirement already satisfied: charset-normalizer<4.0,>=2.0 in /usr/local/lib/python3.10/dist-packages (from aiohttp->datasets) (2.0.12)\n",
            "Requirement already satisfied: multidict<7.0,>=4.5 in /usr/local/lib/python3.10/dist-packages (from aiohttp->datasets) (6.0.4)\n",
            "Requirement already satisfied: async-timeout<5.0,>=4.0.0a3 in /usr/local/lib/python3.10/dist-packages (from aiohttp->datasets) (4.0.2)\n",
            "Requirement already satisfied: yarl<2.0,>=1.0 in /usr/local/lib/python3.10/dist-packages (from aiohttp->datasets) (1.9.2)\n",
            "Requirement already satisfied: frozenlist>=1.1.1 in /usr/local/lib/python3.10/dist-packages (from aiohttp->datasets) (1.3.3)\n",
            "Requirement already satisfied: aiosignal>=1.1.2 in /usr/local/lib/python3.10/dist-packages (from aiohttp->datasets) (1.3.1)\n",
            "Requirement already satisfied: filelock in /usr/local/lib/python3.10/dist-packages (from huggingface-hub<1.0.0,>=0.11.0->datasets) (3.12.0)\n",
            "Requirement already satisfied: typing-extensions>=3.7.4.3 in /usr/local/lib/python3.10/dist-packages (from huggingface-hub<1.0.0,>=0.11.0->datasets) (4.5.0)\n",
            "Requirement already satisfied: urllib3<1.27,>=1.21.1 in /usr/local/lib/python3.10/dist-packages (from requests>=2.19.0->datasets) (1.26.15)\n",
            "Requirement already satisfied: certifi>=2017.4.17 in /usr/local/lib/python3.10/dist-packages (from requests>=2.19.0->datasets) (2022.12.7)\n",
            "Requirement already satisfied: idna<4,>=2.5 in /usr/local/lib/python3.10/dist-packages (from requests>=2.19.0->datasets) (3.4)\n",
            "Requirement already satisfied: scipy>=1.3.2 in /usr/local/lib/python3.10/dist-packages (from scikit-learn>=0.21.3->seqeval) (1.10.1)\n",
            "Requirement already satisfied: joblib>=1.1.1 in /usr/local/lib/python3.10/dist-packages (from scikit-learn>=0.21.3->seqeval) (1.2.0)\n",
            "Requirement already satisfied: threadpoolctl>=2.0.0 in /usr/local/lib/python3.10/dist-packages (from scikit-learn>=0.21.3->seqeval) (3.1.0)\n",
            "Requirement already satisfied: python-dateutil>=2.8.1 in /usr/local/lib/python3.10/dist-packages (from pandas->datasets) (2.8.2)\n",
            "Requirement already satisfied: pytz>=2020.1 in /usr/local/lib/python3.10/dist-packages (from pandas->datasets) (2022.7.1)\n"
          ]
        }
      ],
      "source": [
        "!pip install datasets Keras-Preprocessing tensorflow-addons seqeval"
      ]
    },
    {
      "cell_type": "code",
      "execution_count": 3,
      "metadata": {
        "id": "jd_1DgHVtoDC"
      },
      "outputs": [],
      "source": [
        "# !pip install git+https://www.github.com/keras-team/keras-contrib.git"
      ]
    },
    {
      "cell_type": "code",
      "execution_count": 4,
      "metadata": {
        "colab": {
          "base_uri": "https://localhost:8080/",
          "height": 337,
          "referenced_widgets": [
            "916729b597644eaf99ee1216ffb9b3a9",
            "78e0e6855cae45d9b064faba994fbffe",
            "1ae905564cb344548bad3359046cfb3c",
            "8a578ad645304506a6e3c00a22a6f2b8",
            "6fe321638a7640888e07a7ee2852201f",
            "acd6920d95f04a32b084707a1049e78d",
            "94d0eb4c4c5b46f3ab20e2d4b35888b6",
            "5cee3217ea6e4f27b21c1ae12235e663",
            "2e7e7d32c76147109e07b6df304448c5",
            "0444729ec5d5471f8b99c86b88bc52c2",
            "1c07670aaf4b49c29d51b7998f83a8cf"
          ]
        },
        "id": "XkfIlNLLIrWT",
        "outputId": "1cfe5b09-0879-4df7-9aa6-fe3ee50b68c5"
      },
      "outputs": [
        {
          "name": "stderr",
          "output_type": "stream",
          "text": [
            "WARNING:datasets.builder:Found cached dataset conll2003 (/root/.cache/huggingface/datasets/conll2003/conll2003/1.0.0/9a4d16a94f8674ba3466315300359b0acd891b68b6c8743ddf60b9c702adce98)\n"
          ]
        },
        {
          "data": {
            "application/vnd.jupyter.widget-view+json": {
              "model_id": "916729b597644eaf99ee1216ffb9b3a9",
              "version_major": 2,
              "version_minor": 0
            },
            "text/plain": [
              "  0%|          | 0/3 [00:00<?, ?it/s]"
            ]
          },
          "metadata": {},
          "output_type": "display_data"
        },
        {
          "name": "stdout",
          "output_type": "stream",
          "text": [
            "DatasetDict({\n",
            "    train: Dataset({\n",
            "        features: ['id', 'tokens', 'pos_tags', 'chunk_tags', 'ner_tags'],\n",
            "        num_rows: 14041\n",
            "    })\n",
            "    validation: Dataset({\n",
            "        features: ['id', 'tokens', 'pos_tags', 'chunk_tags', 'ner_tags'],\n",
            "        num_rows: 3250\n",
            "    })\n",
            "    test: Dataset({\n",
            "        features: ['id', 'tokens', 'pos_tags', 'chunk_tags', 'ner_tags'],\n",
            "        num_rows: 3453\n",
            "    })\n",
            "})\n"
          ]
        }
      ],
      "source": [
        "# Load CoNLL2003 dataset\n",
        "from datasets import load_dataset\n",
        "import numpy as np\n",
        "data = load_dataset(\"conll2003\")\n",
        "print(data)"
      ]
    },
    {
      "cell_type": "code",
      "execution_count": 5,
      "metadata": {
        "colab": {
          "base_uri": "https://localhost:8080/"
        },
        "id": "zeVyYwk5KM8b",
        "outputId": "f8d243f4-b47f-4162-d6cb-6ff5a08bb58e"
      },
      "outputs": [
        {
          "name": "stdout",
          "output_type": "stream",
          "text": [
            "{'id': Value(dtype='string', id=None), 'tokens': Sequence(feature=Value(dtype='string', id=None), length=-1, id=None), 'pos_tags': Sequence(feature=ClassLabel(names=['\"', \"''\", '#', '$', '(', ')', ',', '.', ':', '``', 'CC', 'CD', 'DT', 'EX', 'FW', 'IN', 'JJ', 'JJR', 'JJS', 'LS', 'MD', 'NN', 'NNP', 'NNPS', 'NNS', 'NN|SYM', 'PDT', 'POS', 'PRP', 'PRP$', 'RB', 'RBR', 'RBS', 'RP', 'SYM', 'TO', 'UH', 'VB', 'VBD', 'VBG', 'VBN', 'VBP', 'VBZ', 'WDT', 'WP', 'WP$', 'WRB'], id=None), length=-1, id=None), 'chunk_tags': Sequence(feature=ClassLabel(names=['O', 'B-ADJP', 'I-ADJP', 'B-ADVP', 'I-ADVP', 'B-CONJP', 'I-CONJP', 'B-INTJ', 'I-INTJ', 'B-LST', 'I-LST', 'B-NP', 'I-NP', 'B-PP', 'I-PP', 'B-PRT', 'I-PRT', 'B-SBAR', 'I-SBAR', 'B-UCP', 'I-UCP', 'B-VP', 'I-VP'], id=None), length=-1, id=None), 'ner_tags': Sequence(feature=ClassLabel(names=['O', 'B-PER', 'I-PER', 'B-ORG', 'I-ORG', 'B-LOC', 'I-LOC', 'B-MISC', 'I-MISC'], id=None), length=-1, id=None)}\n"
          ]
        }
      ],
      "source": [
        "train_data = data['train']\n",
        "val_data = data['validation']\n",
        "test_data = data['test']\n",
        "print(train_data.features)"
      ]
    },
    {
      "cell_type": "code",
      "execution_count": 6,
      "metadata": {
        "colab": {
          "base_uri": "https://localhost:8080/"
        },
        "id": "_KOcSKb4KAEg",
        "outputId": "ccba5db3-2bd1-4704-c0b4-4c3bdfffdde0"
      },
      "outputs": [
        {
          "name": "stdout",
          "output_type": "stream",
          "text": [
            "{'O': 1, 'B-PER': 2, 'I-PER': 3, 'B-ORG': 4, 'I-ORG': 5, 'B-LOC': 6, 'I-LOC': 7, 'B-MISC': 8, 'I-MISC': 9, 'PAD': 0}\n"
          ]
        }
      ],
      "source": [
        "### build tag vocabulary from ner_tags\n",
        "tags = train_data.features['ner_tags'].feature.names\n",
        "n_tags = len(tags)\n",
        "\n",
        "# The first entry is reserved for PAD\n",
        "tag2idx = {t : i+1 for i, t in enumerate(tags)}\n",
        "tag2idx[\"PAD\"] = 0\n",
        "\n",
        "idx2tag = {i: t for t, i in tag2idx.items()}\n",
        "\n",
        "print(tag2idx)"
      ]
    },
    {
      "cell_type": "code",
      "execution_count": null,
      "metadata": {
        "colab": {
          "base_uri": "https://localhost:8080/"
        },
        "id": "IXb771JmcYOh",
        "outputId": "a178c7a3-a8a0-45c7-be7c-6781d52a1bdb"
      },
      "outputs": [],
      "source": [
        "# build word vocabulary from senna words.lst\n",
        "\n",
        "words = []\n",
        "for l in open(f'senna/words.lst', 'r+'):\n",
        "  words.append(l.rstrip('\\n'))\n",
        "\n",
        "n_words = len(words)\n",
        "\n",
        "# The first 2 entries are reserved for PAD and UNK\n",
        "word2idx = {w: i + 2 for i, w in enumerate(words)}\n",
        "word2idx[\"UNK\"] = 1 # Unknown words\n",
        "word2idx[\"PAD\"] = 0 # Padding\n",
        "\n",
        "idx2word = {i: w for w, i in word2idx.items()}"
      ]
    },
    {
      "cell_type": "code",
      "execution_count": 22,
      "metadata": {
        "colab": {
          "base_uri": "https://localhost:8080/"
        },
        "id": "mo-7LCZrvXGI",
        "outputId": "c54e5343-5ee3-4291-c9b4-24c8e0980eb0"
      },
      "outputs": [
        {
          "data": {
            "text/plain": [
              "['senna_idx2tag.pkl']"
            ]
          },
          "execution_count": 22,
          "metadata": {},
          "output_type": "execute_result"
        }
      ],
      "source": [
        "# save senna idx2word and idx2tag for highlighter server\n",
        "import joblib\n",
        "joblib.dump(idx2word, 'senna/senna_idx2word.pkl')\n",
        "joblib.dump(idx2tag, 'senna/senna_idx2tag.pkl')"
      ]
    },
    {
      "cell_type": "code",
      "execution_count": 8,
      "metadata": {
        "id": "EJEnfGKpdt7H"
      },
      "outputs": [],
      "source": [
        "# assign random 50-dim vector for PAD and UNK\n",
        "pad_embedding = np.around(2 * np.random.rand(1, 50) - 1, decimals=5)\n",
        "unk_embedding = np.around(2 * np.random.rand(1, 50) - 1, decimals=5)\n",
        "\n",
        "# build senna embedding matrix from senna embeddings.txt\n",
        "senna_embedding_matrix = [list(pad_embedding[0]), list(unk_embedding[0])]\n",
        "\n",
        "for l in open(f'senna/embeddings.txt', 'r+'):\n",
        "  senna_embedding_matrix.append([float(x) for x in l.rstrip('\\n').split(' ')])"
      ]
    },
    {
      "cell_type": "code",
      "execution_count": 9,
      "metadata": {
        "id": "lITJFzymdVbv"
      },
      "outputs": [],
      "source": [
        "# build random embedding matrix\n",
        "# each entry is (-1, 1)\n",
        "random_embedding_matrix = []\n",
        "for i in range(130002):\n",
        "  random_embedding_matrix.append(list(np.around(2 * np.random.rand(1, 50) - 1, decimals=5)[0]))"
      ]
    },
    {
      "cell_type": "code",
      "execution_count": 10,
      "metadata": {
        "colab": {
          "base_uri": "https://localhost:8080/"
        },
        "id": "5l17mR26d9Hk",
        "outputId": "58ab1f81-d2a6-4e76-e8e8-37ebbf020325"
      },
      "outputs": [
        {
          "data": {
            "text/plain": [
              "(130002, 50)"
            ]
          },
          "execution_count": 10,
          "metadata": {},
          "output_type": "execute_result"
        }
      ],
      "source": [
        "np.array(senna_embedding_matrix).shape"
      ]
    },
    {
      "cell_type": "code",
      "execution_count": 12,
      "metadata": {
        "id": "UOLf4szmw29k"
      },
      "outputs": [],
      "source": [
        "from keras_preprocessing.sequence import pad_sequences\n",
        "from keras.utils import to_categorical\n",
        "\n",
        "\n",
        "def build_dataset(sents, tags):\n",
        "  # Convert each sentence from list of Token to list of word_index\n",
        "  X = []\n",
        "  for s in sents:\n",
        "    Xx = []\n",
        "    for w in s:\n",
        "      try:\n",
        "        Xx.append(word2idx[w.lower()])\n",
        "      except:\n",
        "        Xx.append(word2idx['UNK'])\n",
        "    X.append(Xx)\n",
        "\n",
        "  # Padding each sentence to have the same lenght\n",
        "  X = pad_sequences(maxlen=MAX_LEN, sequences=X, padding=\"post\", value=word2idx[\"PAD\"])\n",
        "\n",
        "  # add 1 to tag for PAD token\n",
        "  y = [[t+1 for t in s] for s in tags]\n",
        "\n",
        "  # Padding each sentence to have the same lenght\n",
        "  y = pad_sequences(maxlen=MAX_LEN, sequences=y, padding=\"post\", value=tag2idx[\"PAD\"])\n",
        "\n",
        "  # One-Hot encode\n",
        "  y = [to_categorical(i, num_classes=n_tags+1) for i in y]  # n_tags+1(PAD)\n",
        "\n",
        "  return X, y"
      ]
    },
    {
      "cell_type": "code",
      "execution_count": 13,
      "metadata": {
        "colab": {
          "base_uri": "https://localhost:8080/"
        },
        "id": "Fs0-elUXxbxv",
        "outputId": "31a681ea-60d9-458a-e1a3-fbacfa721da9"
      },
      "outputs": [
        {
          "name": "stdout",
          "output_type": "stream",
          "text": [
            "Raw Sample:  EU rejects German call to boycott British lamb .\n",
            "Raw Label:  B-ORG O B-MISC O O O B-MISC O O\n",
            "After processing, sample: [ 38606  96443  46071  18595 117096  15926  16691  64654    695      0\n",
            "      0      0      0      0      0      0      0      0      0      0\n",
            "      0      0      0      0      0      0      0      0      0      0\n",
            "      0      0      0      0      0      0      0      0      0      0\n",
            "      0      0      0      0      0      0      0      0      0      0\n",
            "      0      0      0      0      0      0      0      0      0      0\n",
            "      0      0      0      0      0      0      0      0      0      0\n",
            "      0      0      0      0      0]\n",
            "After processing, labels: [0. 0. 0. 0. 1. 0. 0. 0. 0. 0.]\n"
          ]
        }
      ],
      "source": [
        "X_tr, y_tr = build_dataset(train_data['tokens'], train_data['ner_tags'])\n",
        "\n",
        "print('Raw Sample: ', ' '.join([w for w in train_data['tokens'][0]]))\n",
        "print('Raw Label: ', ' '.join([idx2tag[t+1] for t in train_data['ner_tags'][0]]))\n",
        "print('After processing, sample:', X_tr[0])\n",
        "print('After processing, labels:', y_tr[0][0])"
      ]
    },
    {
      "cell_type": "code",
      "execution_count": 14,
      "metadata": {
        "id": "nzdBxax2yMiE"
      },
      "outputs": [],
      "source": [
        "X_val, y_val = build_dataset(val_data['tokens'], val_data['ner_tags'])\n",
        "X_te, y_te = build_dataset(test_data['tokens'], test_data['ner_tags'])"
      ]
    },
    {
      "cell_type": "code",
      "execution_count": 15,
      "metadata": {
        "colab": {
          "base_uri": "https://localhost:8080/"
        },
        "id": "sZW51uHvyowu",
        "outputId": "5a6b3db6-cb5d-42f9-8e73-5b8f47942866"
      },
      "outputs": [
        {
          "name": "stderr",
          "output_type": "stream",
          "text": [
            "/usr/local/lib/python3.10/dist-packages/tensorflow_addons/utils/tfa_eol_msg.py:23: UserWarning: \n",
            "\n",
            "TensorFlow Addons (TFA) has ended development and introduction of new features.\n",
            "TFA has entered a minimal maintenance and release mode until a planned end of life in May 2024.\n",
            "Please modify downstream libraries to take dependencies from other repositories in our TensorFlow community (e.g. Keras, Keras-CV, and Keras-NLP). \n",
            "\n",
            "For more information see: https://github.com/tensorflow/addons/issues/2807 \n",
            "\n",
            "  warnings.warn(\n",
            "WARNING:tensorflow:Layer lstm will not use cuDNN kernels since it doesn't meet the criteria. It will use a generic GPU kernel as fallback when running on GPU.\n",
            "WARNING:tensorflow:Layer lstm will not use cuDNN kernels since it doesn't meet the criteria. It will use a generic GPU kernel as fallback when running on GPU.\n",
            "WARNING:tensorflow:Layer lstm will not use cuDNN kernels since it doesn't meet the criteria. It will use a generic GPU kernel as fallback when running on GPU.\n"
          ]
        },
        {
          "name": "stdout",
          "output_type": "stream",
          "text": [
            "embedding type is  senna, model type is bi_lstm_crf\n",
            "Model: \"model\"\n",
            "_________________________________________________________________\n",
            " Layer (type)                Output Shape              Param #   \n",
            "=================================================================\n",
            " input_1 (InputLayer)        [(None, 75)]              0         \n",
            "                                                                 \n",
            " embedding (Embedding)       (None, 75, 50)            6500100   \n",
            "                                                                 \n",
            " bidirectional (Bidirectiona  (None, 75, 600)          842400    \n",
            " l)                                                              \n",
            "                                                                 \n",
            " crf (CRF)                   [(None, 75),              6130      \n",
            "                              (None, 75, 10),                    \n",
            "                              (None,),                           \n",
            "                              (10, 10)]                          \n",
            "                                                                 \n",
            "=================================================================\n",
            "Total params: 7,348,630\n",
            "Trainable params: 848,530\n",
            "Non-trainable params: 6,500,100\n",
            "_________________________________________________________________\n"
          ]
        }
      ],
      "source": [
        "from keras.models import Model, Sequential\n",
        "from keras import Input\n",
        "from keras.layers import LSTM, Embedding, Dense, TimeDistributed, Dropout, Bidirectional\n",
        "from tensorflow_addons.layers import CRF\n",
        "import keras as k\n",
        "\n",
        "match EMBEDDING_TYPE:\n",
        "  case 'random':\n",
        "    embedding_matrix = random_embedding_matrix\n",
        "  case 'senna':\n",
        "    embedding_matrix = senna_embedding_matrix\n",
        "\n",
        "match MODEL:\n",
        "  case 'bi_lstm_crf':\n",
        "    input = Input(shape=(MAX_LEN,))\n",
        "    model = Embedding(input_dim=n_words+2,\n",
        "                      output_dim=EMBEDDING, # n_words + 2 (PAD & UNK)\n",
        "                      input_length=MAX_LEN,\n",
        "                      mask_zero=True,\n",
        "                      embeddings_initializer=k.initializers.Constant(embedding_matrix),\n",
        "                      trainable=False)(input)\n",
        "    model = Bidirectional(LSTM(units=HIDDEN, return_sequences=True, recurrent_dropout=0.1))(model)\n",
        "    crf = CRF(n_tags+1)  # CRF layer, n_tags+1(PAD)\n",
        "    _, out, _, _ = crf(model)  # output\n",
        "    model = Model(input, out)\n",
        "\n",
        "  case 'bi_lstm':\n",
        "    model = Sequential()\n",
        "    model.add(Embedding(input_dim=n_words+2,\n",
        "                        output_dim=EMBEDDING, # n_words + 2 (PAD & UNK)\n",
        "                        input_length=MAX_LEN,\n",
        "                        mask_zero=True,\n",
        "                        embeddings_initializer=k.initializers.Constant(embedding_matrix),\n",
        "                        trainable=False))\n",
        "    model.add(Bidirectional(LSTM(units=HIDDEN, return_sequences=True, recurrent_dropout=0.1)))\n",
        "    model.add(Dense(n_tags+1, activation=\"softmax\"))\n",
        "\n",
        "  case 'lstm':\n",
        "    model = Sequential()\n",
        "    model.add(Embedding(input_dim=n_words+2,\n",
        "                        output_dim=EMBEDDING, # n_words + 2 (PAD & UNK)\n",
        "                        input_length=MAX_LEN,\n",
        "                        mask_zero=True,\n",
        "                        embeddings_initializer=k.initializers.Constant(embedding_matrix),\n",
        "                        trainable=False))\n",
        "\n",
        "    model.add(LSTM(units=HIDDEN, return_sequences=True, recurrent_dropout=0.1))\n",
        "    model.add(Dense(n_tags+1, activation=\"softmax\"))\n",
        "\n",
        "  case 'lstm_crf':\n",
        "    input = Input(shape=(MAX_LEN,))\n",
        "    model = Embedding(input_dim=n_words+2,\n",
        "                      output_dim=EMBEDDING, # n_words + 2 (PAD & UNK)\n",
        "                      input_length=MAX_LEN,\n",
        "                      mask_zero=True,\n",
        "                      embeddings_initializer=k.initializers.Constant(embedding_matrix),\n",
        "                      trainable=False)(input)  # TODO: change to senna embedding\n",
        "    model = LSTM(units=HIDDEN, return_sequences=True, recurrent_dropout=0.1)(model)\n",
        "    crf = CRF(n_tags+1)  # CRF layer, n_tags+1(PAD)\n",
        "    _, out, _, _ = crf(model)  # output\n",
        "    model = Model(input, out)\n",
        "\n",
        "  case 'crf':\n",
        "    input = Input(shape=(MAX_LEN,))\n",
        "    model = Embedding(input_dim=n_words+2,\n",
        "                      output_dim=EMBEDDING, # n_words + 2 (PAD & UNK)\n",
        "                      input_length=MAX_LEN,\n",
        "                      mask_zero=True,\n",
        "                      embeddings_initializer=k.initializers.Constant(embedding_matrix),\n",
        "                      trainable=False)(input)\n",
        "    crf = CRF(n_tags+1)  # CRF layer, n_tags+1(PAD)\n",
        "    _, out, _, _ = crf(model)  # output\n",
        "    model = Model(input, out)\n",
        "\n",
        "print('embedding type is ', EMBEDDING_TYPE + ', model type is ' + MODEL)\n",
        "model.summary()"
      ]
    },
    {
      "cell_type": "code",
      "execution_count": 17,
      "metadata": {
        "colab": {
          "base_uri": "https://localhost:8080/"
        },
        "id": "iQW3AKKIWuhk",
        "outputId": "618f00a8-b0e5-44a9-beb9-6f6bdb14ee5f"
      },
      "outputs": [
        {
          "name": "stdout",
          "output_type": "stream",
          "text": [
            "with crf layer\n"
          ]
        }
      ],
      "source": [
        "from tensorflow_addons.losses import SigmoidFocalCrossEntropy\n",
        "from keras import backend as K\n",
        "\n",
        "if 'crf' in MODEL:\n",
        "  print('with crf layer')\n",
        "  model.compile(optimizer='rmsprop', loss=SigmoidFocalCrossEntropy(), metrics=['accuracy'])\n",
        "  K.set_value(model.optimizer.learning_rate, LR)\n",
        "else:\n",
        "  print('without crf layer')\n",
        "  model.compile(optimizer='rmsprop', loss='binary_crossentropy', metrics=['accuracy'])\n",
        "  K.set_value(model.optimizer.learning_rate, LR)"
      ]
    },
    {
      "cell_type": "code",
      "execution_count": 18,
      "metadata": {
        "colab": {
          "base_uri": "https://localhost:8080/"
        },
        "id": "0nKUSV5x1oIG",
        "outputId": "f853f380-d0dd-4303-9df1-f8856d6388aa"
      },
      "outputs": [
        {
          "name": "stdout",
          "output_type": "stream",
          "text": [
            "Epoch 1/3\n"
          ]
        },
        {
          "name": "stderr",
          "output_type": "stream",
          "text": [
            "WARNING:tensorflow:Gradients do not exist for variables ['chain_kernel:0'] when minimizing the loss. If you're using `model.compile()`, did you forget to provide a `loss` argument?\n",
            "WARNING:tensorflow:Gradients do not exist for variables ['chain_kernel:0'] when minimizing the loss. If you're using `model.compile()`, did you forget to provide a `loss` argument?\n",
            "WARNING:tensorflow:Gradients do not exist for variables ['chain_kernel:0'] when minimizing the loss. If you're using `model.compile()`, did you forget to provide a `loss` argument?\n",
            "WARNING:tensorflow:Gradients do not exist for variables ['chain_kernel:0'] when minimizing the loss. If you're using `model.compile()`, did you forget to provide a `loss` argument?\n"
          ]
        },
        {
          "name": "stdout",
          "output_type": "stream",
          "text": [
            "28/28 [==============================] - 35s 717ms/step - loss: 337.8515 - accuracy: 0.8918 - val_loss: 6.7533 - val_accuracy: 0.9704\n",
            "Epoch 2/3\n",
            "28/28 [==============================] - 19s 657ms/step - loss: 15.1902 - accuracy: 0.9678 - val_loss: 1.8096 - val_accuracy: 0.9766\n",
            "Epoch 3/3\n",
            "28/28 [==============================] - 18s 634ms/step - loss: 28.1468 - accuracy: 0.9658 - val_loss: 7.2826 - val_accuracy: 0.9797\n"
          ]
        }
      ],
      "source": [
        "history = model.fit(X_tr, np.array(y_tr), validation_data=(X_val, np.array(y_val)), batch_size=BATCH_SIZE, epochs=EPOCHS, verbose=1)"
      ]
    },
    {
      "cell_type": "code",
      "execution_count": 19,
      "metadata": {
        "colab": {
          "base_uri": "https://localhost:8080/",
          "height": 599
        },
        "id": "_m5ybft7xtrc",
        "outputId": "77478eca-44c8-4ad7-c1e0-7163541ec54b"
      },
      "outputs": [
        {
          "data": {
            "image/png": "[encoded data removed]",
            "text/plain": [
              "<Figure size 700x700 with 1 Axes>"
            ]
          },
          "metadata": {},
          "output_type": "display_data"
        }
      ],
      "source": [
        "import pandas as pd\n",
        "hist = pd.DataFrame(history.history)\n",
        "\n",
        "import matplotlib.pyplot as plt\n",
        "plt.style.use(\"ggplot\")\n",
        "plt.figure(figsize=(7, 7))\n",
        "plt.plot(hist[\"accuracy\"])\n",
        "plt.plot(hist[\"val_accuracy\"])\n",
        "plt.show()"
      ]
    },
    {
      "cell_type": "code",
      "execution_count": 20,
      "metadata": {
        "colab": {
          "base_uri": "https://localhost:8080/"
        },
        "id": "CjmjSNvM3y1K",
        "outputId": "b4e86f8d-8834-4587-b6b4-1b4f3cf852b5"
      },
      "outputs": [
        {
          "name": "stdout",
          "output_type": "stream",
          "text": [
            "1/1 [==============================] - 1s 1s/step\n",
            "Word           ||True ||Pred\n",
            "==============================\n",
            "al-ahram       : B-LOC B-LOC\n",
            "+unq           : O     O\n",
            "unitech        : B-LOC B-LOC\n",
            "ara            : I-LOC B-LOC\n",
            "emirate        : I-LOC I-ORG\n",
            "PAD            : O     O\n"
          ]
        }
      ],
      "source": [
        "# print prediction\n",
        "i = 2\n",
        "\n",
        "p = model.predict(np.array([X_te[i]]))\n",
        "p = np.argmax(p, axis=-1)\n",
        "true = np.argmax(y_te[i], -1)\n",
        "print(\"{:15}||{:5}||{}\".format(\"Word\", \"True\", \"Pred\"))\n",
        "print(30 * \"=\")\n",
        "for w, t, pred in zip(X_te[i], true, p[0]):\n",
        "    if w != 0:\n",
        "        print(\"{:15}: {:5} {}\".format(idx2word[w-1], idx2tag[t], idx2tag[pred]))\n"
      ]
    },
    {
      "cell_type": "code",
      "execution_count": 21,
      "metadata": {
        "colab": {
          "base_uri": "https://localhost:8080/"
        },
        "id": "qBWcBIAVNdAQ",
        "outputId": "dc4caa8d-8cf7-497d-f04d-8aee26721cb5"
      },
      "outputs": [
        {
          "name": "stdout",
          "output_type": "stream",
          "text": [
            "108/108 [==============================] - 6s 59ms/step - loss: 6.6610 - accuracy: 0.9811\n"
          ]
        }
      ],
      "source": [
        "#evaluate model\n",
        "score = model.evaluate(X_te, np.array(y_te), verbose=1)"
      ]
    },
    {
      "cell_type": "code",
      "execution_count": 23,
      "metadata": {
        "colab": {
          "base_uri": "https://localhost:8080/"
        },
        "id": "eMerOtlqvsqW",
        "outputId": "f23e02ed-416f-4ec6-8bfc-6b77f4628f25"
      },
      "outputs": [
        {
          "name": "stderr",
          "output_type": "stream",
          "text": [
            "WARNING:absl:Found untraced functions such as dense_layer_call_fn, dense_layer_call_and_return_conditional_losses while saving (showing 2 of 2). These functions will not be directly callable after loading.\n"
          ]
        }
      ],
      "source": [
        "# save model locally\n",
        "model_name = EMBEDDING_TYPE + '_' + MODEL + '.tf'\n",
        "model.save(model_name)"
      ]
    },
    {
      "cell_type": "code",
      "execution_count": 24,
      "metadata": {
        "colab": {
          "base_uri": "https://localhost:8080/"
        },
        "id": "gAbF1XWfXhzw",
        "outputId": "e0972e30-669b-4faa-822f-c95f6195d2ce"
      },
      "outputs": [
        {
          "name": "stdout",
          "output_type": "stream",
          "text": [
            "  adding: content/senna_bi_lstm_crf.tf/ (stored 0%)\n",
            "  adding: content/senna_bi_lstm_crf.tf/fingerprint.pb (stored 0%)\n",
            "  adding: content/senna_bi_lstm_crf.tf/variables/ (stored 0%)\n",
            "  adding: content/senna_bi_lstm_crf.tf/variables/variables.data-00000-of-00001 (deflated 7%)\n",
            "  adding: content/senna_bi_lstm_crf.tf/variables/variables.index (deflated 59%)\n",
            "  adding: content/senna_bi_lstm_crf.tf/assets/ (stored 0%)\n",
            "  adding: content/senna_bi_lstm_crf.tf/keras_metadata.pb (deflated 61%)\n",
            "  adding: content/senna_bi_lstm_crf.tf/saved_model.pb (deflated 90%)\n"
          ]
        }
      ],
      "source": [
        "!zip -r /content/{model_name}.zip /content/{model_name}"
      ]
    }
  ],
  "metadata": {
    "accelerator": "GPU",
    "colab": {
      "gpuType": "T4",
      "provenance": []
    },
    "kernelspec": {
      "display_name": "Python 3",
      "name": "python3"
    },
    "language_info": {
      "name": "python"
    },
    "widgets": {
      "application/vnd.jupyter.widget-state+json": {
        "0444729ec5d5471f8b99c86b88bc52c2": {
          "model_module": "@jupyter-widgets/base",
          "model_module_version": "1.2.0",
          "model_name": "LayoutModel",
          "state": {
            "_model_module": "@jupyter-widgets/base",
            "_model_module_version": "1.2.0",
            "_model_name": "LayoutModel",
            "_view_count": null,
            "_view_module": "@jupyter-widgets/base",
            "_view_module_version": "1.2.0",
            "_view_name": "LayoutView",
            "align_content": null,
            "align_items": null,
            "align_self": null,
            "border": null,
            "bottom": null,
            "display": null,
            "flex": null,
            "flex_flow": null,
            "grid_area": null,
            "grid_auto_columns": null,
            "grid_auto_flow": null,
            "grid_auto_rows": null,
            "grid_column": null,
            "grid_gap": null,
            "grid_row": null,
            "grid_template_areas": null,
            "grid_template_columns": null,
            "grid_template_rows": null,
            "height": null,
            "justify_content": null,
            "justify_items": null,
            "left": null,
            "margin": null,
            "max_height": null,
            "max_width": null,
            "min_height": null,
            "min_width": null,
            "object_fit": null,
            "object_position": null,
            "order": null,
            "overflow": null,
            "overflow_x": null,
            "overflow_y": null,
            "padding": null,
            "right": null,
            "top": null,
            "visibility": null,
            "width": null
          }
        },
        "1ae905564cb344548bad3359046cfb3c": {
          "model_module": "@jupyter-widgets/controls",
          "model_module_version": "1.5.0",
          "model_name": "FloatProgressModel",
          "state": {
            "_dom_classes": [],
            "_model_module": "@jupyter-widgets/controls",
            "_model_module_version": "1.5.0",
            "_model_name": "FloatProgressModel",
            "_view_count": null,
            "_view_module": "@jupyter-widgets/controls",
            "_view_module_version": "1.5.0",
            "_view_name": "ProgressView",
            "bar_style": "success",
            "description": "",
            "description_tooltip": null,
            "layout": "IPY_MODEL_5cee3217ea6e4f27b21c1ae12235e663",
            "max": 3,
            "min": 0,
            "orientation": "horizontal",
            "style": "IPY_MODEL_2e7e7d32c76147109e07b6df304448c5",
            "value": 3
          }
        },
        "1c07670aaf4b49c29d51b7998f83a8cf": {
          "model_module": "@jupyter-widgets/controls",
          "model_module_version": "1.5.0",
          "model_name": "DescriptionStyleModel",
          "state": {
            "_model_module": "@jupyter-widgets/controls",
            "_model_module_version": "1.5.0",
            "_model_name": "DescriptionStyleModel",
            "_view_count": null,
            "_view_module": "@jupyter-widgets/base",
            "_view_module_version": "1.2.0",
            "_view_name": "StyleView",
            "description_width": ""
          }
        },
        "2e7e7d32c76147109e07b6df304448c5": {
          "model_module": "@jupyter-widgets/controls",
          "model_module_version": "1.5.0",
          "model_name": "ProgressStyleModel",
          "state": {
            "_model_module": "@jupyter-widgets/controls",
            "_model_module_version": "1.5.0",
            "_model_name": "ProgressStyleModel",
            "_view_count": null,
            "_view_module": "@jupyter-widgets/base",
            "_view_module_version": "1.2.0",
            "_view_name": "StyleView",
            "bar_color": null,
            "description_width": ""
          }
        },
        "5cee3217ea6e4f27b21c1ae12235e663": {
          "model_module": "@jupyter-widgets/base",
          "model_module_version": "1.2.0",
          "model_name": "LayoutModel",
          "state": {
            "_model_module": "@jupyter-widgets/base",
            "_model_module_version": "1.2.0",
            "_model_name": "LayoutModel",
            "_view_count": null,
            "_view_module": "@jupyter-widgets/base",
            "_view_module_version": "1.2.0",
            "_view_name": "LayoutView",
            "align_content": null,
            "align_items": null,
            "align_self": null,
            "border": null,
            "bottom": null,
            "display": null,
            "flex": null,
            "flex_flow": null,
            "grid_area": null,
            "grid_auto_columns": null,
            "grid_auto_flow": null,
            "grid_auto_rows": null,
            "grid_column": null,
            "grid_gap": null,
            "grid_row": null,
            "grid_template_areas": null,
            "grid_template_columns": null,
            "grid_template_rows": null,
            "height": null,
            "justify_content": null,
            "justify_items": null,
            "left": null,
            "margin": null,
            "max_height": null,
            "max_width": null,
            "min_height": null,
            "min_width": null,
            "object_fit": null,
            "object_position": null,
            "order": null,
            "overflow": null,
            "overflow_x": null,
            "overflow_y": null,
            "padding": null,
            "right": null,
            "top": null,
            "visibility": null,
            "width": null
          }
        },
        "6fe321638a7640888e07a7ee2852201f": {
          "model_module": "@jupyter-widgets/base",
          "model_module_version": "1.2.0",
          "model_name": "LayoutModel",
          "state": {
            "_model_module": "@jupyter-widgets/base",
            "_model_module_version": "1.2.0",
            "_model_name": "LayoutModel",
            "_view_count": null,
            "_view_module": "@jupyter-widgets/base",
            "_view_module_version": "1.2.0",
            "_view_name": "LayoutView",
            "align_content": null,
            "align_items": null,
            "align_self": null,
            "border": null,
            "bottom": null,
            "display": null,
            "flex": null,
            "flex_flow": null,
            "grid_area": null,
            "grid_auto_columns": null,
            "grid_auto_flow": null,
            "grid_auto_rows": null,
            "grid_column": null,
            "grid_gap": null,
            "grid_row": null,
            "grid_template_areas": null,
            "grid_template_columns": null,
            "grid_template_rows": null,
            "height": null,
            "justify_content": null,
            "justify_items": null,
            "left": null,
            "margin": null,
            "max_height": null,
            "max_width": null,
            "min_height": null,
            "min_width": null,
            "object_fit": null,
            "object_position": null,
            "order": null,
            "overflow": null,
            "overflow_x": null,
            "overflow_y": null,
            "padding": null,
            "right": null,
            "top": null,
            "visibility": null,
            "width": null
          }
        },
        "78e0e6855cae45d9b064faba994fbffe": {
          "model_module": "@jupyter-widgets/controls",
          "model_module_version": "1.5.0",
          "model_name": "HTMLModel",
          "state": {
            "_dom_classes": [],
            "_model_module": "@jupyter-widgets/controls",
            "_model_module_version": "1.5.0",
            "_model_name": "HTMLModel",
            "_view_count": null,
            "_view_module": "@jupyter-widgets/controls",
            "_view_module_version": "1.5.0",
            "_view_name": "HTMLView",
            "description": "",
            "description_tooltip": null,
            "layout": "IPY_MODEL_acd6920d95f04a32b084707a1049e78d",
            "placeholder": "​",
            "style": "IPY_MODEL_94d0eb4c4c5b46f3ab20e2d4b35888b6",
            "value": "100%"
          }
        },
        "8a578ad645304506a6e3c00a22a6f2b8": {
          "model_module": "@jupyter-widgets/controls",
          "model_module_version": "1.5.0",
          "model_name": "HTMLModel",
          "state": {
            "_dom_classes": [],
            "_model_module": "@jupyter-widgets/controls",
            "_model_module_version": "1.5.0",
            "_model_name": "HTMLModel",
            "_view_count": null,
            "_view_module": "@jupyter-widgets/controls",
            "_view_module_version": "1.5.0",
            "_view_name": "HTMLView",
            "description": "",
            "description_tooltip": null,
            "layout": "IPY_MODEL_0444729ec5d5471f8b99c86b88bc52c2",
            "placeholder": "​",
            "style": "IPY_MODEL_1c07670aaf4b49c29d51b7998f83a8cf",
            "value": " 3/3 [00:00&lt;00:00, 87.52it/s]"
          }
        },
        "916729b597644eaf99ee1216ffb9b3a9": {
          "model_module": "@jupyter-widgets/controls",
          "model_module_version": "1.5.0",
          "model_name": "HBoxModel",
          "state": {
            "_dom_classes": [],
            "_model_module": "@jupyter-widgets/controls",
            "_model_module_version": "1.5.0",
            "_model_name": "HBoxModel",
            "_view_count": null,
            "_view_module": "@jupyter-widgets/controls",
            "_view_module_version": "1.5.0",
            "_view_name": "HBoxView",
            "box_style": "",
            "children": [
              "IPY_MODEL_78e0e6855cae45d9b064faba994fbffe",
              "IPY_MODEL_1ae905564cb344548bad3359046cfb3c",
              "IPY_MODEL_8a578ad645304506a6e3c00a22a6f2b8"
            ],
            "layout": "IPY_MODEL_6fe321638a7640888e07a7ee2852201f"
          }
        },
        "94d0eb4c4c5b46f3ab20e2d4b35888b6": {
          "model_module": "@jupyter-widgets/controls",
          "model_module_version": "1.5.0",
          "model_name": "DescriptionStyleModel",
          "state": {
            "_model_module": "@jupyter-widgets/controls",
            "_model_module_version": "1.5.0",
            "_model_name": "DescriptionStyleModel",
            "_view_count": null,
            "_view_module": "@jupyter-widgets/base",
            "_view_module_version": "1.2.0",
            "_view_name": "StyleView",
            "description_width": ""
          }
        },
        "acd6920d95f04a32b084707a1049e78d": {
          "model_module": "@jupyter-widgets/base",
          "model_module_version": "1.2.0",
          "model_name": "LayoutModel",
          "state": {
            "_model_module": "@jupyter-widgets/base",
            "_model_module_version": "1.2.0",
            "_model_name": "LayoutModel",
            "_view_count": null,
            "_view_module": "@jupyter-widgets/base",
            "_view_module_version": "1.2.0",
            "_view_name": "LayoutView",
            "align_content": null,
            "align_items": null,
            "align_self": null,
            "border": null,
            "bottom": null,
            "display": null,
            "flex": null,
            "flex_flow": null,
            "grid_area": null,
            "grid_auto_columns": null,
            "grid_auto_flow": null,
            "grid_auto_rows": null,
            "grid_column": null,
            "grid_gap": null,
            "grid_row": null,
            "grid_template_areas": null,
            "grid_template_columns": null,
            "grid_template_rows": null,
            "height": null,
            "justify_content": null,
            "justify_items": null,
            "left": null,
            "margin": null,
            "max_height": null,
            "max_width": null,
            "min_height": null,
            "min_width": null,
            "object_fit": null,
            "object_position": null,
            "order": null,
            "overflow": null,
            "overflow_x": null,
            "overflow_y": null,
            "padding": null,
            "right": null,
            "top": null,
            "visibility": null,
            "width": null
          }
        }
      }
    }
  },
  "nbformat": 4,
  "nbformat_minor": 0
}
